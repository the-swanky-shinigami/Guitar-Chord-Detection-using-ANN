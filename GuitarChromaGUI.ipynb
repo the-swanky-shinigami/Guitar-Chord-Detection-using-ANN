{
 "cells": [
  {
   "cell_type": "code",
   "execution_count": 36,
   "metadata": {},
   "outputs": [],
   "source": [
    "import tkinter as tk\n",
    "from tkinter import messagebox\n",
    "import sounddevice as sd\n",
    "import numpy as np\n",
    "from scipy.io.wavfile import write\n",
    "import librosa\n",
    "from tensorflow.keras.models import load_model"
   ]
  },
  {
   "cell_type": "code",
   "execution_count": 37,
   "metadata": {},
   "outputs": [],
   "source": [
    "model = load_model(r\"C:\\Users\\Saumya Dwivedi\\Desktop\\guitar_spectrogram_90\")"
   ]
  },
  {
   "cell_type": "code",
   "execution_count": 38,
   "metadata": {},
   "outputs": [],
   "source": [
    "# Chords\n",
    "chords = ['Dm', 'Am', 'Bb', 'C', 'Bdim', 'Em', 'F', 'G']"
   ]
  },
  {
   "cell_type": "code",
   "execution_count": 39,
   "metadata": {},
   "outputs": [],
   "source": [
    "# Function to predict the chord\n",
    "def predict_chord():\n",
    "    # Record audio for a short duration (e.g., 3 seconds)\n",
    "    duration = 3\n",
    "    fs = 22050\n",
    "    recording = sd.rec(int(duration * fs), samplerate=fs, channels=1, dtype=np.int16)\n",
    "    sd.wait()\n",
    "\n",
    "    # Save the recorded audio\n",
    "    audio_path = \"temp_recording.wav\"\n",
    "    write(audio_path, fs, recording)\n",
    "\n",
    "    # Load and preprocess the recorded audio\n",
    "    audio, sr = librosa.load(audio_path, sr=None)\n",
    "    audio_resampled = librosa.resample(audio, orig_sr=sr, target_sr=22050)\n",
    "    chromagram = librosa.feature.chroma_stft(y=audio_resampled, sr=22050)\n",
    "    chromagram = (chromagram - np.min(chromagram)) / (np.max(chromagram) - np.min(chromagram))\n",
    "\n",
    "    # Pad or truncate the chromagram to match the model input shape\n",
    "    target_size = (12, 137)\n",
    "    if chromagram.shape[1] < target_size[1]:\n",
    "        chromagram = np.pad(chromagram, ((0, 0), (0, target_size[1] - chromagram.shape[1])))\n",
    "    elif chromagram.shape[1] > target_size[1]:\n",
    "        chromagram = chromagram[:, :target_size[1]]\n",
    "\n",
    "    # Reshape to match the model input shape\n",
    "    chromagram_reshaped = chromagram.reshape((1, 12, 137, 1))\n",
    "\n",
    "    # Predict chord using the trained model\n",
    "    predicted_label_index = np.argmax(model.predict(chromagram_reshaped))\n",
    "    predicted_chord = chords[predicted_label_index]\n",
    "\n",
    "    # Display the predicted chord\n",
    "    messagebox.showinfo(\"Predicted Chord\", f\"The predicted chord is: {predicted_chord}\")\n"
   ]
  },
  {
   "cell_type": "code",
   "execution_count": 40,
   "metadata": {},
   "outputs": [
    {
     "data": {
      "text/plain": [
       "''"
      ]
     },
     "execution_count": 40,
     "metadata": {},
     "output_type": "execute_result"
    }
   ],
   "source": [
    "# GUI setup\n",
    "root = tk.Tk()\n",
    "root.title(\"Chord Predictor\")"
   ]
  },
  {
   "cell_type": "code",
   "execution_count": 41,
   "metadata": {},
   "outputs": [],
   "source": [
    "# Create and configure widgets\n",
    "label = tk.Label(root, text=\"Click the button to record and predict a chord.\")\n",
    "label.pack(pady=20)\n",
    "\n",
    "predict_button = tk.Button(root, text=\"Predict Chord\", command=predict_chord)\n",
    "predict_button.pack(pady=10)\n",
    "\n",
    "exit_button = tk.Button(root, text=\"Exit\", command=root.destroy)\n",
    "exit_button.pack(pady=10)"
   ]
  },
  {
   "cell_type": "code",
   "execution_count": 42,
   "metadata": {},
   "outputs": [],
   "source": [
    "# Run the GUI\n",
    "root.mainloop()"
   ]
  }
 ],
 "metadata": {
  "kernelspec": {
   "display_name": "Python 3",
   "language": "python",
   "name": "python3"
  },
  "language_info": {
   "codemirror_mode": {
    "name": "ipython",
    "version": 3
   },
   "file_extension": ".py",
   "mimetype": "text/x-python",
   "name": "python",
   "nbconvert_exporter": "python",
   "pygments_lexer": "ipython3",
   "version": "3.10.5"
  }
 },
 "nbformat": 4,
 "nbformat_minor": 2
}
